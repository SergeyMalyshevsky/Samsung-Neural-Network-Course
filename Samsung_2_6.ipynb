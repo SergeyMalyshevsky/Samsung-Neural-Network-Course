{
  "nbformat": 4,
  "nbformat_minor": 0,
  "metadata": {
    "colab": {
      "name": "Samsung 2.6.ipynb",
      "version": "0.3.2",
      "provenance": [],
      "include_colab_link": true
    },
    "kernelspec": {
      "name": "python3",
      "display_name": "Python 3"
    }
  },
  "cells": [
    {
      "cell_type": "markdown",
      "metadata": {
        "id": "view-in-github",
        "colab_type": "text"
      },
      "source": [
        "<a href=\"https://colab.research.google.com/github/SergeyMalyshevsky/Samsung-Neural-Network-Course/blob/master/Samsung_2_6.ipynb\" target=\"_parent\"><img src=\"https://colab.research.google.com/assets/colab-badge.svg\" alt=\"Open In Colab\"/></a>"
      ]
    },
    {
      "cell_type": "code",
      "metadata": {
        "id": "JI0fmfo-hRwD",
        "colab_type": "code",
        "colab": {
          "base_uri": "https://localhost:8080/",
          "height": 51
        },
        "outputId": "3f9fbd90-a192-492e-851f-fd1aae232847"
      },
      "source": [
        "import torch\n",
        "\n",
        "w = torch.tensor( [[1.,2.],[4.,5.]], requires_grad=True)\n",
        "function = 10 * torch.log( ( w + 1. ) ).sum()\n",
        "function.backward()\n",
        "print(w-w.grad)"
      ],
      "execution_count": 1,
      "outputs": [
        {
          "output_type": "stream",
          "text": [
            "tensor([[-4.0000, -1.3333],\n",
            "        [ 2.0000,  3.3333]], grad_fn=<SubBackward0>)\n"
          ],
          "name": "stdout"
        }
      ]
    },
    {
      "cell_type": "code",
      "metadata": {
        "id": "3wwsAI90hqYS",
        "colab_type": "code",
        "colab": {}
      },
      "source": [
        ""
      ],
      "execution_count": 0,
      "outputs": []
    }
  ]
}