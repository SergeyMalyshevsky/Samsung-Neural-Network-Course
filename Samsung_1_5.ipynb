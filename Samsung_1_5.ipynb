{
  "nbformat": 4,
  "nbformat_minor": 0,
  "metadata": {
    "colab": {
      "name": "Samsung 1.5.ipynb",
      "version": "0.3.2",
      "provenance": [],
      "include_colab_link": true
    },
    "kernelspec": {
      "name": "python3",
      "display_name": "Python 3"
    }
  },
  "cells": [
    {
      "cell_type": "markdown",
      "metadata": {
        "id": "view-in-github",
        "colab_type": "text"
      },
      "source": [
        "<a href=\"https://colab.research.google.com/github/SergeyMalyshevsky/Samsung-Neural-Network-Course/blob/master/Samsung_1_5.ipynb\" target=\"_parent\"><img src=\"https://colab.research.google.com/assets/colab-badge.svg\" alt=\"Open In Colab\"/></a>"
      ]
    },
    {
      "cell_type": "code",
      "metadata": {
        "id": "yUh1yq_ZQCA2",
        "colab_type": "code",
        "colab": {
          "base_uri": "https://localhost:8080/",
          "height": 71
        },
        "outputId": "d7024f87-fde4-47c9-c95d-7ac9c6d652b8"
      },
      "source": [
        "!pip install torch"
      ],
      "execution_count": 1,
      "outputs": [
        {
          "output_type": "stream",
          "text": [
            "Requirement already satisfied: torch in /usr/local/lib/python3.6/dist-packages (1.1.0)\n",
            "Requirement already satisfied: numpy in /usr/local/lib/python3.6/dist-packages (from torch) (1.16.4)\n"
          ],
          "name": "stdout"
        }
      ]
    },
    {
      "cell_type": "code",
      "metadata": {
        "id": "z4eF3M2qQkel",
        "colab_type": "code",
        "colab": {}
      },
      "source": [
        "import torch"
      ],
      "execution_count": 0,
      "outputs": []
    },
    {
      "cell_type": "markdown",
      "metadata": {
        "id": "Xx7Ud0-1TgyV",
        "colab_type": "text"
      },
      "source": [
        "**Создание тензоров**"
      ]
    },
    {
      "cell_type": "code",
      "metadata": {
        "id": "_v9WoocYQ0Ac",
        "colab_type": "code",
        "colab": {
          "base_uri": "https://localhost:8080/",
          "height": 68
        },
        "outputId": "9a87f60c-9f63-4074-ac89-875256a59a39"
      },
      "source": [
        "# создать матрицу 3х4 и заполнить нулями\n",
        "torch.zeros([3, 4])"
      ],
      "execution_count": 4,
      "outputs": [
        {
          "output_type": "execute_result",
          "data": {
            "text/plain": [
              "tensor([[0., 0., 0., 0.],\n",
              "        [0., 0., 0., 0.],\n",
              "        [0., 0., 0., 0.]])"
            ]
          },
          "metadata": {
            "tags": []
          },
          "execution_count": 4
        }
      ]
    },
    {
      "cell_type": "code",
      "metadata": {
        "id": "9JbuD7vGREEf",
        "colab_type": "code",
        "colab": {
          "base_uri": "https://localhost:8080/",
          "height": 255
        },
        "outputId": "8e22cfcd-a8f4-4434-f8ee-21ae44c8d26a"
      },
      "source": [
        "# создать тензор 3х4х3 и заполнить единицами\n",
        "torch.ones([3, 4, 3])"
      ],
      "execution_count": 6,
      "outputs": [
        {
          "output_type": "execute_result",
          "data": {
            "text/plain": [
              "tensor([[[1., 1., 1.],\n",
              "         [1., 1., 1.],\n",
              "         [1., 1., 1.],\n",
              "         [1., 1., 1.]],\n",
              "\n",
              "        [[1., 1., 1.],\n",
              "         [1., 1., 1.],\n",
              "         [1., 1., 1.],\n",
              "         [1., 1., 1.]],\n",
              "\n",
              "        [[1., 1., 1.],\n",
              "         [1., 1., 1.],\n",
              "         [1., 1., 1.],\n",
              "         [1., 1., 1.]]])"
            ]
          },
          "metadata": {
            "tags": []
          },
          "execution_count": 6
        }
      ]
    },
    {
      "cell_type": "code",
      "metadata": {
        "id": "jLeTSYpWRfcN",
        "colab_type": "code",
        "colab": {
          "base_uri": "https://localhost:8080/",
          "height": 68
        },
        "outputId": "cc001e50-503c-46a0-bb6f-a7893bcb5128"
      },
      "source": [
        "# создать тензор на основе списков\n",
        "torch.Tensor([\n",
        "    [1, 2, 3, 4],\n",
        "    [5, 6, 7, 8],\n",
        "    [9, 10, 11, 12]\n",
        "])"
      ],
      "execution_count": 7,
      "outputs": [
        {
          "output_type": "execute_result",
          "data": {
            "text/plain": [
              "tensor([[ 1.,  2.,  3.,  4.],\n",
              "        [ 5.,  6.,  7.,  8.],\n",
              "        [ 9., 10., 11., 12.]])"
            ]
          },
          "metadata": {
            "tags": []
          },
          "execution_count": 7
        }
      ]
    },
    {
      "cell_type": "code",
      "metadata": {
        "id": "gLchqlr3R7AO",
        "colab_type": "code",
        "colab": {}
      },
      "source": [
        "# положить объект в переменную x\n",
        "x = torch.Tensor([\n",
        "    [1, 2, 3, 4],\n",
        "    [5, 6, 7, 8],\n",
        "    [9, 10, 11, 12]\n",
        "])"
      ],
      "execution_count": 0,
      "outputs": []
    },
    {
      "cell_type": "markdown",
      "metadata": {
        "id": "VWSE4t5WTqah",
        "colab_type": "text"
      },
      "source": [
        "**Вывод размера тензора**"
      ]
    },
    {
      "cell_type": "code",
      "metadata": {
        "id": "W8hJf8oNSBAn",
        "colab_type": "code",
        "colab": {
          "base_uri": "https://localhost:8080/",
          "height": 34
        },
        "outputId": "541149f1-2042-4b75-b852-e5d5ae967b3a"
      },
      "source": [
        "# узнать размер тензора x. Способ 1\n",
        "x.size()"
      ],
      "execution_count": 10,
      "outputs": [
        {
          "output_type": "execute_result",
          "data": {
            "text/plain": [
              "torch.Size([3, 4])"
            ]
          },
          "metadata": {
            "tags": []
          },
          "execution_count": 10
        }
      ]
    },
    {
      "cell_type": "code",
      "metadata": {
        "id": "ePjJhSrwSNAc",
        "colab_type": "code",
        "colab": {
          "base_uri": "https://localhost:8080/",
          "height": 34
        },
        "outputId": "17838952-aa46-4ff1-9047-065842dc95fd"
      },
      "source": [
        "# узнать размер тензора x. Способ 2\n",
        "x.shape"
      ],
      "execution_count": 12,
      "outputs": [
        {
          "output_type": "execute_result",
          "data": {
            "text/plain": [
              "torch.Size([3, 4])"
            ]
          },
          "metadata": {
            "tags": []
          },
          "execution_count": 12
        }
      ]
    },
    {
      "cell_type": "markdown",
      "metadata": {
        "id": "2hNKRlUiT0V8",
        "colab_type": "text"
      },
      "source": [
        "**Получение строк, столбцов и элементов тензора**"
      ]
    },
    {
      "cell_type": "code",
      "metadata": {
        "id": "z57eCv48SZjy",
        "colab_type": "code",
        "colab": {
          "base_uri": "https://localhost:8080/",
          "height": 34
        },
        "outputId": "6b833ed5-87b5-4152-bc9a-5ce6443fdbcd"
      },
      "source": [
        "# получить первую строчку\n",
        "x[0]"
      ],
      "execution_count": 13,
      "outputs": [
        {
          "output_type": "execute_result",
          "data": {
            "text/plain": [
              "tensor([1., 2., 3., 4.])"
            ]
          },
          "metadata": {
            "tags": []
          },
          "execution_count": 13
        }
      ]
    },
    {
      "cell_type": "code",
      "metadata": {
        "id": "A4RKMFrpSmuO",
        "colab_type": "code",
        "colab": {
          "base_uri": "https://localhost:8080/",
          "height": 34
        },
        "outputId": "fdaf4df1-a21a-4271-8717-b804130542e9"
      },
      "source": [
        "# получить вторую строчку\n",
        "x[1]"
      ],
      "execution_count": 14,
      "outputs": [
        {
          "output_type": "execute_result",
          "data": {
            "text/plain": [
              "tensor([5., 6., 7., 8.])"
            ]
          },
          "metadata": {
            "tags": []
          },
          "execution_count": 14
        }
      ]
    },
    {
      "cell_type": "code",
      "metadata": {
        "id": "_2AI8gA3S4Gb",
        "colab_type": "code",
        "colab": {
          "base_uri": "https://localhost:8080/",
          "height": 34
        },
        "outputId": "a3433ff5-e053-4275-ecf0-f71469be71b8"
      },
      "source": [
        "# получить первый столбец\n",
        "x[:, 0]"
      ],
      "execution_count": 16,
      "outputs": [
        {
          "output_type": "execute_result",
          "data": {
            "text/plain": [
              "tensor([1., 5., 9.])"
            ]
          },
          "metadata": {
            "tags": []
          },
          "execution_count": 16
        }
      ]
    },
    {
      "cell_type": "code",
      "metadata": {
        "id": "5s66s720SvKv",
        "colab_type": "code",
        "colab": {
          "base_uri": "https://localhost:8080/",
          "height": 34
        },
        "outputId": "05327db6-9596-4630-a1df-9a66fe159844"
      },
      "source": [
        "# получить элемент по индексу\n",
        "x[0, 0]"
      ],
      "execution_count": 15,
      "outputs": [
        {
          "output_type": "execute_result",
          "data": {
            "text/plain": [
              "tensor(1.)"
            ]
          },
          "metadata": {
            "tags": []
          },
          "execution_count": 15
        }
      ]
    },
    {
      "cell_type": "markdown",
      "metadata": {
        "id": "Zr4WHDNPUQov",
        "colab_type": "text"
      },
      "source": [
        "**Операции с тензором**"
      ]
    },
    {
      "cell_type": "code",
      "metadata": {
        "id": "ZaPq1Bh5THZ1",
        "colab_type": "code",
        "colab": {
          "base_uri": "https://localhost:8080/",
          "height": 68
        },
        "outputId": "2ca590f7-583c-4642-a33c-a2d36ab2f180"
      },
      "source": [
        "# прибавить к тензору число\n",
        "x + 10"
      ],
      "execution_count": 17,
      "outputs": [
        {
          "output_type": "execute_result",
          "data": {
            "text/plain": [
              "tensor([[11., 12., 13., 14.],\n",
              "        [15., 16., 17., 18.],\n",
              "        [19., 20., 21., 22.]])"
            ]
          },
          "metadata": {
            "tags": []
          },
          "execution_count": 17
        }
      ]
    },
    {
      "cell_type": "code",
      "metadata": {
        "id": "g28XRmVPTR5z",
        "colab_type": "code",
        "colab": {
          "base_uri": "https://localhost:8080/",
          "height": 68
        },
        "outputId": "f2989b7e-5fd6-4bd6-f843-fab057eab445"
      },
      "source": [
        "# возвести тензор в квадрат\n",
        "x ** 2"
      ],
      "execution_count": 18,
      "outputs": [
        {
          "output_type": "execute_result",
          "data": {
            "text/plain": [
              "tensor([[  1.,   4.,   9.,  16.],\n",
              "        [ 25.,  36.,  49.,  64.],\n",
              "        [ 81., 100., 121., 144.]])"
            ]
          },
          "metadata": {
            "tags": []
          },
          "execution_count": 18
        }
      ]
    },
    {
      "cell_type": "markdown",
      "metadata": {
        "id": "-jqZpLPkUaT9",
        "colab_type": "text"
      },
      "source": [
        "**Операции с тензорами**"
      ]
    },
    {
      "cell_type": "code",
      "metadata": {
        "id": "F512ENstTWm4",
        "colab_type": "code",
        "colab": {}
      },
      "source": [
        "# создаем новый тензор\n",
        "y = torch.Tensor([\n",
        "    [12, 11, 10, 9],\n",
        "    [8, 7, 6, 5],\n",
        "    [4, 3, 2, 1]\n",
        "])"
      ],
      "execution_count": 0,
      "outputs": []
    },
    {
      "cell_type": "code",
      "metadata": {
        "id": "D0JQSA0HWV1d",
        "colab_type": "code",
        "colab": {
          "base_uri": "https://localhost:8080/",
          "height": 68
        },
        "outputId": "ed139b3f-f915-428f-9467-01c24d1a36df"
      },
      "source": [
        "# складываем два тензора\n",
        "x + y"
      ],
      "execution_count": 20,
      "outputs": [
        {
          "output_type": "execute_result",
          "data": {
            "text/plain": [
              "tensor([[13., 13., 13., 13.],\n",
              "        [13., 13., 13., 13.],\n",
              "        [13., 13., 13., 13.]])"
            ]
          },
          "metadata": {
            "tags": []
          },
          "execution_count": 20
        }
      ]
    },
    {
      "cell_type": "code",
      "metadata": {
        "id": "7US4iok9Wsc-",
        "colab_type": "code",
        "colab": {
          "base_uri": "https://localhost:8080/",
          "height": 68
        },
        "outputId": "70fd88d4-1907-4f8e-eb1d-3a93e5ce6940"
      },
      "source": [
        "# умножаем тензоры\n",
        "x * y"
      ],
      "execution_count": 22,
      "outputs": [
        {
          "output_type": "execute_result",
          "data": {
            "text/plain": [
              "tensor([[12., 22., 30., 36.],\n",
              "        [40., 42., 42., 40.],\n",
              "        [36., 30., 22., 12.]])"
            ]
          },
          "metadata": {
            "tags": []
          },
          "execution_count": 22
        }
      ]
    },
    {
      "cell_type": "code",
      "metadata": {
        "id": "bT_Sc0s_Wg3P",
        "colab_type": "code",
        "colab": {
          "base_uri": "https://localhost:8080/",
          "height": 68
        },
        "outputId": "e81ea984-9211-4fc8-d15d-f1e56d762486"
      },
      "source": [
        "# делим тензор х на тензор y\n",
        "x / y"
      ],
      "execution_count": 21,
      "outputs": [
        {
          "output_type": "execute_result",
          "data": {
            "text/plain": [
              "tensor([[ 0.0833,  0.1818,  0.3000,  0.4444],\n",
              "        [ 0.6250,  0.8571,  1.1667,  1.6000],\n",
              "        [ 2.2500,  3.3333,  5.5000, 12.0000]])"
            ]
          },
          "metadata": {
            "tags": []
          },
          "execution_count": 21
        }
      ]
    },
    {
      "cell_type": "code",
      "metadata": {
        "id": "bK_qbP4iWpb2",
        "colab_type": "code",
        "colab": {
          "base_uri": "https://localhost:8080/",
          "height": 68
        },
        "outputId": "0ade93f6-14ad-4103-d7c8-431550f51823"
      },
      "source": [
        "# получаем остаток от деления тензора x на тензор y\n",
        "x % y"
      ],
      "execution_count": 23,
      "outputs": [
        {
          "output_type": "execute_result",
          "data": {
            "text/plain": [
              "tensor([[1., 2., 3., 4.],\n",
              "        [5., 6., 1., 3.],\n",
              "        [1., 1., 1., 0.]])"
            ]
          },
          "metadata": {
            "tags": []
          },
          "execution_count": 23
        }
      ]
    },
    {
      "cell_type": "markdown",
      "metadata": {
        "id": "hSg0FWTsYD_G",
        "colab_type": "text"
      },
      "source": [
        "Примеры"
      ]
    },
    {
      "cell_type": "code",
      "metadata": {
        "id": "Kcfqfe__W4-R",
        "colab_type": "code",
        "colab": {}
      },
      "source": [
        "a = torch.ones([5, 4])\n",
        "b = torch.Tensor([\n",
        "    [1, 2, 3, 4],\n",
        "    [5, 6, 7, 8],\n",
        "    [9, 10, 11, 12],\n",
        "    [13, 14, 15, 16],\n",
        "    [17, 18, 19, 20]\n",
        "])"
      ],
      "execution_count": 0,
      "outputs": []
    },
    {
      "cell_type": "code",
      "metadata": {
        "id": "r54auiVTXiij",
        "colab_type": "code",
        "colab": {
          "base_uri": "https://localhost:8080/",
          "height": 102
        },
        "outputId": "b1000340-e858-49ac-dfba-9e8eeb334542"
      },
      "source": [
        "a % b"
      ],
      "execution_count": 25,
      "outputs": [
        {
          "output_type": "execute_result",
          "data": {
            "text/plain": [
              "tensor([[0., 1., 1., 1.],\n",
              "        [1., 1., 1., 1.],\n",
              "        [1., 1., 1., 1.],\n",
              "        [1., 1., 1., 1.],\n",
              "        [1., 1., 1., 1.]])"
            ]
          },
          "metadata": {
            "tags": []
          },
          "execution_count": 25
        }
      ]
    },
    {
      "cell_type": "code",
      "metadata": {
        "id": "Pve_ZyY5XkFG",
        "colab_type": "code",
        "colab": {}
      },
      "source": [
        "a = torch.ones([5,4])\n",
        "b = torch.Tensor([[1,2,3,4], \n",
        "                  [5,6,7,8], \n",
        "                  [9,10,11,12], \n",
        "                  [13,14,15,16], \n",
        "                  [17,18,19,20]\n",
        "                 ])"
      ],
      "execution_count": 0,
      "outputs": []
    },
    {
      "cell_type": "code",
      "metadata": {
        "id": "bBgQBwrpXx8R",
        "colab_type": "code",
        "colab": {
          "base_uri": "https://localhost:8080/",
          "height": 34
        },
        "outputId": "952d839f-dd66-40d9-b2e3-1f6561bc3d4b"
      },
      "source": [
        "a[4] + b[0]"
      ],
      "execution_count": 27,
      "outputs": [
        {
          "output_type": "execute_result",
          "data": {
            "text/plain": [
              "tensor([2., 3., 4., 5.])"
            ]
          },
          "metadata": {
            "tags": []
          },
          "execution_count": 27
        }
      ]
    },
    {
      "cell_type": "markdown",
      "metadata": {
        "id": "QvHNjNx-YJvA",
        "colab_type": "text"
      },
      "source": [
        "**Выполнение математических функций над тензорами**"
      ]
    },
    {
      "cell_type": "code",
      "metadata": {
        "id": "XBN2o8fxX170",
        "colab_type": "code",
        "colab": {
          "base_uri": "https://localhost:8080/",
          "height": 68
        },
        "outputId": "a3d3cca2-de7e-409f-e0ad-12a4ca8ad97e"
      },
      "source": [
        "# экспонента\n",
        "torch.exp(x)"
      ],
      "execution_count": 28,
      "outputs": [
        {
          "output_type": "execute_result",
          "data": {
            "text/plain": [
              "tensor([[2.7183e+00, 7.3891e+00, 2.0086e+01, 5.4598e+01],\n",
              "        [1.4841e+02, 4.0343e+02, 1.0966e+03, 2.9810e+03],\n",
              "        [8.1031e+03, 2.2026e+04, 5.9874e+04, 1.6275e+05]])"
            ]
          },
          "metadata": {
            "tags": []
          },
          "execution_count": 28
        }
      ]
    },
    {
      "cell_type": "code",
      "metadata": {
        "id": "ZkRJmH1gYZTb",
        "colab_type": "code",
        "colab": {
          "base_uri": "https://localhost:8080/",
          "height": 68
        },
        "outputId": "a2b92c88-8045-4229-d1d7-3568457da9a8"
      },
      "source": [
        "# натуральный логарифм\n",
        "torch.log(x)"
      ],
      "execution_count": 29,
      "outputs": [
        {
          "output_type": "execute_result",
          "data": {
            "text/plain": [
              "tensor([[0.0000, 0.6931, 1.0986, 1.3863],\n",
              "        [1.6094, 1.7918, 1.9459, 2.0794],\n",
              "        [2.1972, 2.3026, 2.3979, 2.4849]])"
            ]
          },
          "metadata": {
            "tags": []
          },
          "execution_count": 29
        }
      ]
    },
    {
      "cell_type": "code",
      "metadata": {
        "id": "0TyhEkZCZNzS",
        "colab_type": "code",
        "colab": {
          "base_uri": "https://localhost:8080/",
          "height": 68
        },
        "outputId": "d1efc67a-5175-4fb4-b99f-c77d58421065"
      },
      "source": [
        "# синус\n",
        "torch.sin(x)"
      ],
      "execution_count": 30,
      "outputs": [
        {
          "output_type": "execute_result",
          "data": {
            "text/plain": [
              "tensor([[ 0.8415,  0.9093,  0.1411, -0.7568],\n",
              "        [-0.9589, -0.2794,  0.6570,  0.9894],\n",
              "        [ 0.4121, -0.5440, -1.0000, -0.5366]])"
            ]
          },
          "metadata": {
            "tags": []
          },
          "execution_count": 30
        }
      ]
    },
    {
      "cell_type": "markdown",
      "metadata": {
        "id": "VbcxhK8PZZSy",
        "colab_type": "text"
      },
      "source": [
        "**Логические операции с тензорами**"
      ]
    },
    {
      "cell_type": "code",
      "metadata": {
        "id": "aAPLu_AjZRzD",
        "colab_type": "code",
        "colab": {
          "base_uri": "https://localhost:8080/",
          "height": 68
        },
        "outputId": "562be34d-6c8d-486c-dc96-df5104d8f39a"
      },
      "source": [
        "# поэлементное сравнение, в результате получается 0(ложь) или 1(истина)\n",
        "x > 3"
      ],
      "execution_count": 32,
      "outputs": [
        {
          "output_type": "execute_result",
          "data": {
            "text/plain": [
              "tensor([[0, 0, 0, 1],\n",
              "        [1, 1, 1, 1],\n",
              "        [1, 1, 1, 1]], dtype=torch.uint8)"
            ]
          },
          "metadata": {
            "tags": []
          },
          "execution_count": 32
        }
      ]
    },
    {
      "cell_type": "code",
      "metadata": {
        "id": "hz3ENpNyZf1l",
        "colab_type": "code",
        "colab": {
          "base_uri": "https://localhost:8080/",
          "height": 34
        },
        "outputId": "2fbbc718-8e6c-418b-863d-7a6afd717eb5"
      },
      "source": [
        "# наложение маски на тензор. Способ 1\n",
        "mask = x > 3\n",
        "x[mask]"
      ],
      "execution_count": 33,
      "outputs": [
        {
          "output_type": "execute_result",
          "data": {
            "text/plain": [
              "tensor([ 4.,  5.,  6.,  7.,  8.,  9., 10., 11., 12.])"
            ]
          },
          "metadata": {
            "tags": []
          },
          "execution_count": 33
        }
      ]
    },
    {
      "cell_type": "code",
      "metadata": {
        "id": "7xRVW-KvZ_Kt",
        "colab_type": "code",
        "colab": {
          "base_uri": "https://localhost:8080/",
          "height": 34
        },
        "outputId": "fd7f4cee-50fd-4f1f-f1b8-19359e28cb53"
      },
      "source": [
        "# наложение маски на тензор. Способ 2\n",
        "x[x > 3]"
      ],
      "execution_count": 34,
      "outputs": [
        {
          "output_type": "execute_result",
          "data": {
            "text/plain": [
              "tensor([ 4.,  5.,  6.,  7.,  8.,  9., 10., 11., 12.])"
            ]
          },
          "metadata": {
            "tags": []
          },
          "execution_count": 34
        }
      ]
    },
    {
      "cell_type": "markdown",
      "metadata": {
        "id": "S0q3uIY9agjd",
        "colab_type": "text"
      },
      "source": [
        "**Сумма всех элементов тензора**"
      ]
    },
    {
      "cell_type": "code",
      "metadata": {
        "id": "qLd3ob2saEhD",
        "colab_type": "code",
        "colab": {
          "base_uri": "https://localhost:8080/",
          "height": 34
        },
        "outputId": "81c45287-9ce9-4927-b32d-6c1b5d848b86"
      },
      "source": [
        "x.sum()"
      ],
      "execution_count": 35,
      "outputs": [
        {
          "output_type": "execute_result",
          "data": {
            "text/plain": [
              "tensor(78.)"
            ]
          },
          "metadata": {
            "tags": []
          },
          "execution_count": 35
        }
      ]
    },
    {
      "cell_type": "markdown",
      "metadata": {
        "id": "EPDVaJvba3lJ",
        "colab_type": "text"
      },
      "source": [
        "**Клонирование тензора**"
      ]
    },
    {
      "cell_type": "code",
      "metadata": {
        "id": "C0Vi6pkbab3f",
        "colab_type": "code",
        "colab": {
          "base_uri": "https://localhost:8080/",
          "height": 68
        },
        "outputId": "91d4782f-ccec-417a-861a-cc4a517ee3b3"
      },
      "source": [
        "y = x.clone()\n",
        "y[0, 0] = 999\n",
        "x"
      ],
      "execution_count": 37,
      "outputs": [
        {
          "output_type": "execute_result",
          "data": {
            "text/plain": [
              "tensor([[ 1.,  2.,  3.,  4.],\n",
              "        [ 5.,  6.,  7.,  8.],\n",
              "        [ 9., 10., 11., 12.]])"
            ]
          },
          "metadata": {
            "tags": []
          },
          "execution_count": 37
        }
      ]
    },
    {
      "cell_type": "code",
      "metadata": {
        "id": "Au-OBVjrbAuB",
        "colab_type": "code",
        "colab": {
          "base_uri": "https://localhost:8080/",
          "height": 68
        },
        "outputId": "605dfca9-cadc-445b-949d-6833a4aa1c88"
      },
      "source": [
        "y"
      ],
      "execution_count": 38,
      "outputs": [
        {
          "output_type": "execute_result",
          "data": {
            "text/plain": [
              "tensor([[999.,   2.,   3.,   4.],\n",
              "        [  5.,   6.,   7.,   8.],\n",
              "        [  9.,  10.,  11.,  12.]])"
            ]
          },
          "metadata": {
            "tags": []
          },
          "execution_count": 38
        }
      ]
    },
    {
      "cell_type": "markdown",
      "metadata": {
        "id": "4UoYpoqibVMB",
        "colab_type": "text"
      },
      "source": [
        "**Типы данных тензора**"
      ]
    },
    {
      "cell_type": "code",
      "metadata": {
        "id": "g2-yVWzGbFxB",
        "colab_type": "code",
        "colab": {
          "base_uri": "https://localhost:8080/",
          "height": 34
        },
        "outputId": "95c93ad5-b765-430a-893b-9ddb2a996ffa"
      },
      "source": [
        "# узнать тип элементов в тензоре\n",
        "x.dtype"
      ],
      "execution_count": 41,
      "outputs": [
        {
          "output_type": "execute_result",
          "data": {
            "text/plain": [
              "torch.float32"
            ]
          },
          "metadata": {
            "tags": []
          },
          "execution_count": 41
        }
      ]
    },
    {
      "cell_type": "code",
      "metadata": {
        "id": "meq3EWP1beID",
        "colab_type": "code",
        "colab": {
          "base_uri": "https://localhost:8080/",
          "height": 68
        },
        "outputId": "4d69ce0c-9132-401e-8bad-f839b5c8e57b"
      },
      "source": [
        "# изменить тип элементов в тензоре\n",
        "x = x.double()\n",
        "x"
      ],
      "execution_count": 42,
      "outputs": [
        {
          "output_type": "execute_result",
          "data": {
            "text/plain": [
              "tensor([[ 1.,  2.,  3.,  4.],\n",
              "        [ 5.,  6.,  7.,  8.],\n",
              "        [ 9., 10., 11., 12.]], dtype=torch.float64)"
            ]
          },
          "metadata": {
            "tags": []
          },
          "execution_count": 42
        }
      ]
    },
    {
      "cell_type": "code",
      "metadata": {
        "id": "vbOVOKAhbuh7",
        "colab_type": "code",
        "colab": {
          "base_uri": "https://localhost:8080/",
          "height": 68
        },
        "outputId": "8b941bf1-066c-482b-9b36-b2a8bba26df8"
      },
      "source": [
        "x = x.int()\n",
        "x"
      ],
      "execution_count": 43,
      "outputs": [
        {
          "output_type": "execute_result",
          "data": {
            "text/plain": [
              "tensor([[ 1,  2,  3,  4],\n",
              "        [ 5,  6,  7,  8],\n",
              "        [ 9, 10, 11, 12]], dtype=torch.int32)"
            ]
          },
          "metadata": {
            "tags": []
          },
          "execution_count": 43
        }
      ]
    },
    {
      "cell_type": "code",
      "metadata": {
        "id": "giK2bT7Fb0aQ",
        "colab_type": "code",
        "colab": {
          "base_uri": "https://localhost:8080/",
          "height": 68
        },
        "outputId": "bdef74fc-096c-430c-c2b0-d5f941316a40"
      },
      "source": [
        "x = x.float()\n",
        "x"
      ],
      "execution_count": 44,
      "outputs": [
        {
          "output_type": "execute_result",
          "data": {
            "text/plain": [
              "tensor([[ 1.,  2.,  3.,  4.],\n",
              "        [ 5.,  6.,  7.,  8.],\n",
              "        [ 9., 10., 11., 12.]])"
            ]
          },
          "metadata": {
            "tags": []
          },
          "execution_count": 44
        }
      ]
    },
    {
      "cell_type": "markdown",
      "metadata": {
        "id": "fenIuF4sb8jk",
        "colab_type": "text"
      },
      "source": [
        "**Взаимодействие с NumPy**"
      ]
    },
    {
      "cell_type": "code",
      "metadata": {
        "id": "2ghUfYhLb2M1",
        "colab_type": "code",
        "colab": {}
      },
      "source": [
        "import numpy as np"
      ],
      "execution_count": 0,
      "outputs": []
    },
    {
      "cell_type": "code",
      "metadata": {
        "id": "osJyuAN6cJps",
        "colab_type": "code",
        "colab": {
          "base_uri": "https://localhost:8080/",
          "height": 51
        },
        "outputId": "8da28969-08ee-4c87-8ffb-f6d4e5b7f967"
      },
      "source": [
        "# создать массив numpy\n",
        "x = np.array([\n",
        "    [1, 2, 3, 4],\n",
        "    [5, 6, 7, 8]\n",
        "])\n",
        "\n",
        "x"
      ],
      "execution_count": 49,
      "outputs": [
        {
          "output_type": "execute_result",
          "data": {
            "text/plain": [
              "array([[1, 2, 3, 4],\n",
              "       [5, 6, 7, 8]])"
            ]
          },
          "metadata": {
            "tags": []
          },
          "execution_count": 49
        }
      ]
    },
    {
      "cell_type": "code",
      "metadata": {
        "id": "3eOuGfyRcWEi",
        "colab_type": "code",
        "colab": {
          "base_uri": "https://localhost:8080/",
          "height": 51
        },
        "outputId": "daa381a1-b6db-416f-c6a9-dbcf3203d281"
      },
      "source": [
        "# преобразовать массив numpy в тензор pytorch\n",
        "x = torch.from_numpy(x)\n",
        "x"
      ],
      "execution_count": 50,
      "outputs": [
        {
          "output_type": "execute_result",
          "data": {
            "text/plain": [
              "tensor([[1, 2, 3, 4],\n",
              "        [5, 6, 7, 8]])"
            ]
          },
          "metadata": {
            "tags": []
          },
          "execution_count": 50
        }
      ]
    },
    {
      "cell_type": "code",
      "metadata": {
        "id": "GE6eP6u8cdD0",
        "colab_type": "code",
        "colab": {
          "base_uri": "https://localhost:8080/",
          "height": 51
        },
        "outputId": "3f4c2f85-2218-4848-9345-26f579bafab3"
      },
      "source": [
        "# преобразовать тензор pytorch в массив numpy\n",
        "x = x.numpy()\n",
        "x"
      ],
      "execution_count": 52,
      "outputs": [
        {
          "output_type": "execute_result",
          "data": {
            "text/plain": [
              "array([[1, 2, 3, 4],\n",
              "       [5, 6, 7, 8]])"
            ]
          },
          "metadata": {
            "tags": []
          },
          "execution_count": 52
        }
      ]
    },
    {
      "cell_type": "code",
      "metadata": {
        "id": "5JFRnL9wc7CO",
        "colab_type": "code",
        "colab": {}
      },
      "source": [
        ""
      ],
      "execution_count": 0,
      "outputs": []
    }
  ]
}